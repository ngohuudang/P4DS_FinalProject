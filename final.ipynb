{
 "cells": [
  {
   "cell_type": "markdown",
   "id": "07e83476",
   "metadata": {},
   "source": [
    "# ĐỒ ÁN CUỐI KÌ\n",
    "\n",
    "| MSSV     | Họ và tên       | Github    |\n",
    "|----------|-----------------|-----------|\n",
    "| 19120467  | Ngô Hữu Đang | ngohuudang2001 |\n",
    "| 18120464 | Nguyễn Văn Minh | MinhCr007 |"
   ]
  },
  {
   "cell_type": "markdown",
   "id": "dfe0da7b",
   "metadata": {},
   "source": [
    "---"
   ]
  },
  {
   "cell_type": "markdown",
   "id": "21e5e444",
   "metadata": {},
   "source": [
    "# Import Library"
   ]
  },
  {
   "cell_type": "code",
   "execution_count": 1,
   "id": "3d3f22b7",
   "metadata": {},
   "outputs": [],
   "source": [
    "import pandas as pd\n",
    "import numpy as np\n",
    "from matplotlib import pyplot as plt"
   ]
  },
  {
   "cell_type": "markdown",
   "id": "93c425a7",
   "metadata": {},
   "source": [
    "---"
   ]
  },
  {
   "cell_type": "markdown",
   "id": "0acceadf",
   "metadata": {},
   "source": [
    "# A. THU THẬP DỮ LIỆU"
   ]
  },
  {
   "cell_type": "markdown",
   "id": "efdf8d61",
   "metadata": {},
   "source": [
    "**Dữ liệu đã được lấy trong một cuộc khảo sát về các khóa học toán học và tiếng Bồ Đào Nha ở trường trung học. Nó chứa rất nhiều thông tin xã hội, giới tính và nghiên cứu thú vị về sinh viên. Bạn có thể sử dụng nó cho một số EDA hoặc cố gắng dự đoán học sinh lớp cuối cùng**\n",
    "> **Context**\\\n",
    "The data were obtained in a survey of students math and portuguese language courses in secondary school. It contains a lot of interesting social, gender and study information about students. You can use it for some EDA or try to predict students final grade\n",
    "\n",
    "**Phần mô tả của dữ liệu:**\n",
    ">**Attributes**\n",
    ">- school - student's school (binary: 'GP' - Gabriel Pereira or 'MS' - Mousinho da Silveira)\n",
    ">- sex - student's sex (binary: 'F' - female or 'M' - male)\n",
    ">- age - student's age (numeric: from 15 to 22)\n",
    ">- address - student's home address type (binary: 'U' - urban or 'R' - rural)\n",
    ">- famsize - family size (binary: 'LE3' - less or equal to 3 or 'GT3' - greater than 3)\n",
    ">- Pstatus - parent's cohabitation status (binary: 'T' - living together or 'A' - apart)\n",
    ">- Medu - mother's education (numeric: 0 - none, 1 - primary education (4th grade), 2 – 5th to 9th grade, 3 – secondary education or 4 – higher education)\n",
    ">- Fedu - father's education (numeric: 0 - none, 1 - primary education (4th grade), 2 – 5th to 9th grade, 3 – secondary education or 4 – higher education)\n",
    ">- Mjob - mother's job (nominal: 'teacher', 'health' care related, civil 'services' (e.g. administrative or police), 'at_home' or 'other')\n",
    ">- Fjob - father's job (nominal: 'teacher', 'health' care related, civil 'services' (e.g. administrative or police), 'at_home' or 'other')\n",
    ">- reason - reason to choose this school (nominal: close to 'home', school 'reputation', 'course' preference or 'other')\n",
    ">- guardian - student's guardian (nominal: 'mother', 'father' or 'other')\n",
    ">- traveltime - home to school travel time (numeric: 1 - <15 min., 2 - 15 to 30 min., 3 - 30 min. to 1 hour, or 4 - >1 hour)\n",
    ">- studytime - weekly study time (numeric: 1 - <2 hours, 2 - 2 to 5 hours, 3 - 5 to 10 hours, or 4 - >10 hours)\n",
    ">- failures - number of past class failures (numeric: n if 1<=n<3, else 4)\n",
    ">- schoolsup - extra educational support (binary: yes or no)\n",
    ">- famsup - family educational support (binary: yes or no)\n",
    ">- paid - extra paid classes within the course subject (Math or Portuguese) (binary: yes or no)\n",
    ">- activities - extra-curricular activities (binary: yes or no)\n",
    ">- nursery - attended nursery school (binary: yes or no)\n",
    ">- higher - wants to take higher education (binary: yes or no)\n",
    ">- internet - Internet access at home (binary: yes or no)\n",
    ">- romantic - with a romantic relationship (binary: yes or no)\n",
    ">- famrel - quality of family relationships (numeric: from 1 - very bad to 5 - excellent)\n",
    ">- freetime - free time after school (numeric: from 1 - very low to 5 - very high)\n",
    ">- goout - going out with friends (numeric: from 1 - very low to 5 - very high)\n",
    ">- Dalc - workday alcohol consumption (numeric: from 1 - very low to 5 - very high)\n",
    ">- Walc - weekend alcohol consumption (numeric: from 1 - very low to 5 - very high)\n",
    ">- health - current health status (numeric: from 1 - very bad to 5 - very good)\n",
    ">- absences - number of school absences (numeric: from 0 to 93)\n",
    ">- G1 - first period grade (numeric: from 0 to 20)\n",
    ">- G2 - second period grade (numeric: from 0 to 20)\n",
    ">- G3 - final grade (numeric: from 0 to 20, output target)\n",
    "\n",
    "**Nguồn thông tin và cách thu thập dư liệu:**\n",
    ">- P. Cortez and A. Silva. Using Data Mining to Predict Secondary School Student Performance. In A. Brito and J. Teixeira Eds., Proceedings of 5th FUture BUsiness TEChnology Conference (FUBUTEC 2008) pp. 5-12, Porto, Portugal, April, 2008, EUROSIS, ISBN 978-9077381-39-7.\n",
    ">- Fabio Pagnotta, Hossain Mohammad Amran.\n",
    ">- Email:fabio.pagnotta@studenti.unicam.it, mohammadamra.hossain '@' studenti.unicam.it\n",
    ">- University Of Camerino\n",
    " \n",
    "**License: [CC0: Public Domain](https://creativecommons.org/publicdomain/zero/1.0/)**\n",
    ">The person who associated a work with this deed has dedicated the work to the public domain by waiving all of his or her rights to the work worldwide under copyright law, including all related and neighboring rights, to the extent allowed by law. You can copy, modify, distribute and perform the work, even for commercial purposes, all without asking permission.\n",
    "\n",
    "**Bộ dữ liệu được thu thập từ  [kaggle](https://www.kaggle.com/uciml/student-alcohol-consumption)**"
   ]
  },
  {
   "cell_type": "markdown",
   "id": "eb8ce1ff",
   "metadata": {},
   "source": [
    "---"
   ]
  },
  {
   "cell_type": "markdown",
   "id": "eef6808a",
   "metadata": {},
   "source": [
    "# B. KHÁM PHÁ VÀ TIỀN XỬ LÝ DỮ LIỆU"
   ]
  },
  {
   "cell_type": "markdown",
   "id": "569527b1",
   "metadata": {},
   "source": [
    "## Đọc dữ liệu từ file .csv"
   ]
  },
  {
   "cell_type": "markdown",
   "id": "49a8d773",
   "metadata": {},
   "source": [
    "## Dữ liệu có bao nhiêu dòng và bao nhiêu cột?"
   ]
  },
  {
   "cell_type": "markdown",
   "id": "e1ba44a9",
   "metadata": {},
   "source": [
    "## Mỗi dòng có ý nghĩa gì? Có vấn đề các dòng có ý nghĩa khác nhau không?"
   ]
  },
  {
   "cell_type": "markdown",
   "id": "d03cab9b",
   "metadata": {},
   "source": [
    "## Dữ liệu có các dòng bị lặp không?"
   ]
  },
  {
   "cell_type": "markdown",
   "id": "c5c4576a",
   "metadata": {},
   "source": [
    "## Mỗi cột có ý nghĩa gì?"
   ]
  },
  {
   "cell_type": "markdown",
   "id": "2795115c",
   "metadata": {},
   "source": [
    "## Mỗi cột hiện đang có kiểu dữ liệu gì? Có cột nào có kiểu dữ liệu chưa phù hợp để có thể xử lý tiếp không?"
   ]
  },
  {
   "cell_type": "markdown",
   "id": "0219d159",
   "metadata": {},
   "source": [
    "---"
   ]
  },
  {
   "cell_type": "markdown",
   "id": "54ce3ffb",
   "metadata": {},
   "source": [
    "# C. Tiền xử lý"
   ]
  },
  {
   "cell_type": "markdown",
   "id": "0747c874",
   "metadata": {},
   "source": [
    "## Phân bố dữ liệu"
   ]
  },
  {
   "cell_type": "markdown",
   "id": "dd15a266",
   "metadata": {},
   "source": [
    "### Với mỗi cột có kiểu dữ liệu dạng numeric, các giá trị được phân bố như thế nào? "
   ]
  },
  {
   "cell_type": "markdown",
   "id": "8c124aeb",
   "metadata": {},
   "source": [
    "### Với mỗi cột có kiểu dữ liệu dạng phân loại (categorical), các giá trị được phân bố như thế nào?"
   ]
  },
  {
   "cell_type": "markdown",
   "id": "2d294a1a",
   "metadata": {},
   "source": [
    "## Tiền xử lý"
   ]
  },
  {
   "cell_type": "markdown",
   "id": "356bd350",
   "metadata": {},
   "source": [
    "---"
   ]
  },
  {
   "cell_type": "markdown",
   "id": "2e5aa7cd",
   "metadata": {},
   "source": [
    "# D. Đặt câu hỏi "
   ]
  },
  {
   "cell_type": "markdown",
   "id": "ffdf24d0",
   "metadata": {},
   "source": [
    "## Tiền xử lí và phân tích dữ liệu để trả lời cho từng câu hỏi"
   ]
  }
 ],
 "metadata": {
  "kernelspec": {
   "display_name": "Python 3 (ipykernel)",
   "language": "python",
   "name": "python3"
  },
  "language_info": {
   "codemirror_mode": {
    "name": "ipython",
    "version": 3
   },
   "file_extension": ".py",
   "mimetype": "text/x-python",
   "name": "python",
   "nbconvert_exporter": "python",
   "pygments_lexer": "ipython3",
   "version": "3.8.8"
  }
 },
 "nbformat": 4,
 "nbformat_minor": 5
}
