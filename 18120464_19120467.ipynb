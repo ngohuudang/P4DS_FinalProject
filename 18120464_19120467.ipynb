{
 "cells": [
  {
   "cell_type": "markdown",
   "id": "06768b7a",
   "metadata": {},
   "source": [
    "# ĐỒ ÁN CUỐI KÌ\n",
    "\n",
    "| MSSV     | Họ và tên       | Github    |\n",
    "|----------|-----------------|-----------|\n",
    "| 19120467  | Ngô Hữu Đang | ngohuudang2001 |\n",
    "| 18120464 | Nguyễn Văn Minh | MinhCr007 |\n",
    "\n",
    "link [thùng chứa](https://github.com/ngohuudang2001/P4DS_FinalProject)"
   ]
  },
  {
   "cell_type": "markdown",
   "id": "15c97723",
   "metadata": {},
   "source": [
    "---"
   ]
  },
  {
   "cell_type": "markdown",
   "id": "b1a13b02",
   "metadata": {},
   "source": [
    "# Môi trường code"
   ]
  },
  {
   "cell_type": "code",
   "execution_count": 1,
   "id": "fbe3d808",
   "metadata": {},
   "outputs": [
    {
     "data": {
      "text/plain": [
       "'C:\\\\ProgramData\\\\Anaconda3\\\\envs\\\\min_ds-env\\\\python.exe'"
      ]
     },
     "execution_count": 1,
     "metadata": {},
     "output_type": "execute_result"
    }
   ],
   "source": [
    "import sys\n",
    "sys.executable"
   ]
  },
  {
   "cell_type": "markdown",
   "id": "8f528142",
   "metadata": {},
   "source": [
    "File chạy python sẽ là file của môi trường code \"min_ds-env\"."
   ]
  },
  {
   "cell_type": "markdown",
   "id": "3ca8b713",
   "metadata": {},
   "source": [
    "---"
   ]
  },
  {
   "cell_type": "markdown",
   "id": "01df7990",
   "metadata": {},
   "source": [
    "# Import các thư viện cần thiết"
   ]
  },
  {
   "cell_type": "code",
   "execution_count": 2,
   "id": "4c54e84c",
   "metadata": {},
   "outputs": [],
   "source": [
    "import pandas as pd\n",
    "import matplotlib.pyplot as plt\n",
    "import numpy as np\n",
    "import seaborn as sns\n",
    "import os\n",
    "import warnings\n",
    "warnings.filterwarnings('ignore')"
   ]
  },
  {
   "cell_type": "markdown",
   "id": "5ede4fd4",
   "metadata": {},
   "source": [
    "---"
   ]
  },
  {
   "cell_type": "markdown",
   "id": "778f1f44",
   "metadata": {},
   "source": [
    "# A. THU THẬP DỮ LIỆU"
   ]
  },
  {
   "cell_type": "markdown",
   "id": "d0aa7ac0",
   "metadata": {},
   "source": [
    "**Dữ liệu đã được lấy trong một cuộc khảo sát về khóa học toán học ở trường trung học. Nó chứa rất nhiều thông tin xã hội, giới tính và nghiên cứu thú vị về sinh viên.**\n",
    "> **Context**\\\n",
    "The data were obtained in a survey of students math and portuguese language courses in secondary school. It contains a lot of interesting social, gender and study information about students. You can use it for some EDA or try to predict students final grade\n",
    "\n",
    "**Nguồn thông tin và cách thu thập dư liệu:**\n",
    ">- P. Cortez and A. Silva. Using Data Mining to Predict Secondary School Student Performance. In A. Brito and J. Teixeira Eds., Proceedings of 5th FUture BUsiness TEChnology Conference (FUBUTEC 2008) pp. 5-12, Porto, Portugal, April, 2008, EUROSIS, ISBN 978-9077381-39-7.\n",
    ">- Fabio Pagnotta, Hossain Mohammad Amran.\n",
    ">- Email:fabio.pagnotta@studenti.unicam.it, mohammadamra.hossain '@' studenti.unicam.it\n",
    ">- University Of Camerino\n",
    " \n",
    "**License: [CC0: Public Domain](https://creativecommons.org/publicdomain/zero/1.0/)**\n",
    ">The person who associated a work with this deed has dedicated the work to the public domain by waiving all of his or her rights to the work worldwide under copyright law, including all related and neighboring rights, to the extent allowed by law. You can copy, modify, distribute and perform the work, even for commercial purposes, all without asking permission.\n",
    "\n",
    "**Bộ dữ liệu được thu thập từ  [kaggle](https://www.kaggle.com/uciml/student-alcohol-consumption)**"
   ]
  },
  {
   "cell_type": "markdown",
   "id": "79033712",
   "metadata": {},
   "source": [
    "---"
   ]
  },
  {
   "cell_type": "markdown",
   "id": "17eb96e7",
   "metadata": {},
   "source": [
    "# B. KHÁM PHÁ VÀ TIỀN XỬ LÝ DỮ LIỆU"
   ]
  },
  {
   "cell_type": "markdown",
   "id": "78c2e085",
   "metadata": {},
   "source": [
    "## Đọc dữ liệu từ file .csv"
   ]
  },
  {
   "cell_type": "code",
   "execution_count": 3,
   "id": "4d3eff5a",
   "metadata": {},
   "outputs": [],
   "source": [
    "student_df = pd.read_csv(\"./Data/student-mat.csv\", sep=',')"
   ]
  },
  {
   "cell_type": "code",
   "execution_count": 4,
   "id": "23fc81e8",
   "metadata": {},
   "outputs": [
    {
     "data": {
      "text/html": [
       "<div>\n",
       "<style scoped>\n",
       "    .dataframe tbody tr th:only-of-type {\n",
       "        vertical-align: middle;\n",
       "    }\n",
       "\n",
       "    .dataframe tbody tr th {\n",
       "        vertical-align: top;\n",
       "    }\n",
       "\n",
       "    .dataframe thead th {\n",
       "        text-align: right;\n",
       "    }\n",
       "</style>\n",
       "<table border=\"1\" class=\"dataframe\">\n",
       "  <thead>\n",
       "    <tr style=\"text-align: right;\">\n",
       "      <th></th>\n",
       "      <th>school</th>\n",
       "      <th>sex</th>\n",
       "      <th>age</th>\n",
       "      <th>address</th>\n",
       "      <th>famsize</th>\n",
       "      <th>Pstatus</th>\n",
       "      <th>Medu</th>\n",
       "      <th>Fedu</th>\n",
       "      <th>Mjob</th>\n",
       "      <th>Fjob</th>\n",
       "      <th>...</th>\n",
       "      <th>famrel</th>\n",
       "      <th>freetime</th>\n",
       "      <th>goout</th>\n",
       "      <th>Dalc</th>\n",
       "      <th>Walc</th>\n",
       "      <th>health</th>\n",
       "      <th>absences</th>\n",
       "      <th>G1</th>\n",
       "      <th>G2</th>\n",
       "      <th>G3</th>\n",
       "    </tr>\n",
       "  </thead>\n",
       "  <tbody>\n",
       "    <tr>\n",
       "      <th>0</th>\n",
       "      <td>GP</td>\n",
       "      <td>F</td>\n",
       "      <td>18</td>\n",
       "      <td>U</td>\n",
       "      <td>GT3</td>\n",
       "      <td>A</td>\n",
       "      <td>4</td>\n",
       "      <td>4</td>\n",
       "      <td>at_home</td>\n",
       "      <td>teacher</td>\n",
       "      <td>...</td>\n",
       "      <td>4</td>\n",
       "      <td>3</td>\n",
       "      <td>4</td>\n",
       "      <td>1</td>\n",
       "      <td>1</td>\n",
       "      <td>3</td>\n",
       "      <td>6</td>\n",
       "      <td>5</td>\n",
       "      <td>6</td>\n",
       "      <td>6</td>\n",
       "    </tr>\n",
       "    <tr>\n",
       "      <th>1</th>\n",
       "      <td>GP</td>\n",
       "      <td>F</td>\n",
       "      <td>17</td>\n",
       "      <td>U</td>\n",
       "      <td>GT3</td>\n",
       "      <td>T</td>\n",
       "      <td>1</td>\n",
       "      <td>1</td>\n",
       "      <td>at_home</td>\n",
       "      <td>other</td>\n",
       "      <td>...</td>\n",
       "      <td>5</td>\n",
       "      <td>3</td>\n",
       "      <td>3</td>\n",
       "      <td>1</td>\n",
       "      <td>1</td>\n",
       "      <td>3</td>\n",
       "      <td>4</td>\n",
       "      <td>5</td>\n",
       "      <td>5</td>\n",
       "      <td>6</td>\n",
       "    </tr>\n",
       "    <tr>\n",
       "      <th>2</th>\n",
       "      <td>GP</td>\n",
       "      <td>F</td>\n",
       "      <td>15</td>\n",
       "      <td>U</td>\n",
       "      <td>LE3</td>\n",
       "      <td>T</td>\n",
       "      <td>1</td>\n",
       "      <td>1</td>\n",
       "      <td>at_home</td>\n",
       "      <td>other</td>\n",
       "      <td>...</td>\n",
       "      <td>4</td>\n",
       "      <td>3</td>\n",
       "      <td>2</td>\n",
       "      <td>2</td>\n",
       "      <td>3</td>\n",
       "      <td>3</td>\n",
       "      <td>10</td>\n",
       "      <td>7</td>\n",
       "      <td>8</td>\n",
       "      <td>10</td>\n",
       "    </tr>\n",
       "    <tr>\n",
       "      <th>3</th>\n",
       "      <td>GP</td>\n",
       "      <td>F</td>\n",
       "      <td>15</td>\n",
       "      <td>U</td>\n",
       "      <td>GT3</td>\n",
       "      <td>T</td>\n",
       "      <td>4</td>\n",
       "      <td>2</td>\n",
       "      <td>health</td>\n",
       "      <td>services</td>\n",
       "      <td>...</td>\n",
       "      <td>3</td>\n",
       "      <td>2</td>\n",
       "      <td>2</td>\n",
       "      <td>1</td>\n",
       "      <td>1</td>\n",
       "      <td>5</td>\n",
       "      <td>2</td>\n",
       "      <td>15</td>\n",
       "      <td>14</td>\n",
       "      <td>15</td>\n",
       "    </tr>\n",
       "    <tr>\n",
       "      <th>4</th>\n",
       "      <td>GP</td>\n",
       "      <td>F</td>\n",
       "      <td>16</td>\n",
       "      <td>U</td>\n",
       "      <td>GT3</td>\n",
       "      <td>T</td>\n",
       "      <td>3</td>\n",
       "      <td>3</td>\n",
       "      <td>other</td>\n",
       "      <td>other</td>\n",
       "      <td>...</td>\n",
       "      <td>4</td>\n",
       "      <td>3</td>\n",
       "      <td>2</td>\n",
       "      <td>1</td>\n",
       "      <td>2</td>\n",
       "      <td>5</td>\n",
       "      <td>4</td>\n",
       "      <td>6</td>\n",
       "      <td>10</td>\n",
       "      <td>10</td>\n",
       "    </tr>\n",
       "  </tbody>\n",
       "</table>\n",
       "<p>5 rows × 33 columns</p>\n",
       "</div>"
      ],
      "text/plain": [
       "  school sex  age address famsize Pstatus  Medu  Fedu     Mjob      Fjob  ...  \\\n",
       "0     GP   F   18       U     GT3       A     4     4  at_home   teacher  ...   \n",
       "1     GP   F   17       U     GT3       T     1     1  at_home     other  ...   \n",
       "2     GP   F   15       U     LE3       T     1     1  at_home     other  ...   \n",
       "3     GP   F   15       U     GT3       T     4     2   health  services  ...   \n",
       "4     GP   F   16       U     GT3       T     3     3    other     other  ...   \n",
       "\n",
       "  famrel freetime  goout  Dalc  Walc health absences  G1  G2  G3  \n",
       "0      4        3      4     1     1      3        6   5   6   6  \n",
       "1      5        3      3     1     1      3        4   5   5   6  \n",
       "2      4        3      2     2     3      3       10   7   8  10  \n",
       "3      3        2      2     1     1      5        2  15  14  15  \n",
       "4      4        3      2     1     2      5        4   6  10  10  \n",
       "\n",
       "[5 rows x 33 columns]"
      ]
     },
     "execution_count": 4,
     "metadata": {},
     "output_type": "execute_result"
    }
   ],
   "source": [
    "student_df.head()"
   ]
  },
  {
   "cell_type": "markdown",
   "id": "26c0e0b7",
   "metadata": {},
   "source": [
    "## Dữ liệu có bao nhiêu dòng và bao nhiêu cột?"
   ]
  },
  {
   "cell_type": "code",
   "execution_count": 5,
   "id": "3b86aeb9",
   "metadata": {},
   "outputs": [
    {
     "name": "stdout",
     "output_type": "stream",
     "text": [
      "395 33\n"
     ]
    }
   ],
   "source": [
    "n_rows, n_cols = student_df.shape\n",
    "print(n_rows, n_cols)"
   ]
  },
  {
   "cell_type": "markdown",
   "id": "f5c3e6e1",
   "metadata": {},
   "source": [
    "- Dữ liệu khảo sát của học sinh đối với môn toán có 395 dòng và 33 cột"
   ]
  },
  {
   "cell_type": "markdown",
   "id": "f9e89acd",
   "metadata": {},
   "source": [
    "## Mỗi dòng có ý nghĩa gì? Có vấn đề các dòng có ý nghĩa khác nhau không?"
   ]
  },
  {
   "cell_type": "markdown",
   "id": "33913d5c",
   "metadata": {},
   "source": [
    "- Quan sát sơ bộ dữ liệu ta thấy mỗi dòng chứa thông tin về một học sinh, có vẻ như không có vấn đề, các dòng có cùng ý nghĩa với nhau."
   ]
  },
  {
   "cell_type": "markdown",
   "id": "4ba14eab",
   "metadata": {},
   "source": [
    "## Dữ liệu có các dòng bị lặp không?"
   ]
  },
  {
   "cell_type": "code",
   "execution_count": 6,
   "id": "82cecf0e",
   "metadata": {},
   "outputs": [
    {
     "data": {
      "text/plain": [
       "0"
      ]
     },
     "execution_count": 6,
     "metadata": {},
     "output_type": "execute_result"
    }
   ],
   "source": [
    "student_df.duplicated().sum()"
   ]
  },
  {
   "cell_type": "markdown",
   "id": "5b2b33d8",
   "metadata": {},
   "source": [
    "Vậy các dòng trong tập dữ liệu không bị trùng nhau"
   ]
  },
  {
   "cell_type": "markdown",
   "id": "ac99bb79",
   "metadata": {},
   "source": [
    "## Mỗi cột có ý nghĩa gì?"
   ]
  },
  {
   "cell_type": "markdown",
   "id": "fd76615e",
   "metadata": {},
   "source": [
    "Dưới đây là phần mô tả về  các cột trong file \"student.txt\":\n",
    "- **school**: student's school (binary: 'GP' - Gabriel Pereira or 'MS' - Mousinho da Silveira).\n",
    "- **sex**: student's sex (binary: 'F' - female or 'M' - male)\n",
    "- **age**: student's age (numeric: from 15 to 22)\n",
    "- **address**: student's home address type (binary: 'U' - urban or 'R' - rural)\n",
    "- **famsize**: family size (binary: 'LE3' - less or equal to 3 or 'GT3' - greater than 3)\n",
    "- **Pstatus**: parent's cohabitation status (binary: 'T' - living together or 'A' - apart)\n",
    "- **Medu**: mother's education (numeric: 0 - none, 1 - primary education (4th grade), 2 – 5th to 9th grade, 3 – secondary education or 4 – higher education)\n",
    "- **Fedu**:  father's education (numeric: 0 - none, 1 - primary education (4th grade), 2 – 5th to 9th grade, 3 – secondary education or 4 – higher education)\n",
    "- **Mjob**: mother's job (nominal: 'teacher', 'health' care related, civil 'services' (e.g. administrative or police), 'at_home' or 'other')\n",
    "- **Fjob**: father's job (nominal: 'teacher', 'health' care related, civil 'services' (e.g. administrative or police), 'at_home' or 'other')\n",
    "- **reason**: reason to choose this school (nominal: close to 'home', school 'reputation', 'course' preference or 'other')\n",
    "- **guardian**: student's guardian (nominal: 'mother', 'father' or 'other')\n",
    "- **traveltime**: home to school travel time (numeric: 1 - <15 min., 2 - 15 to 30 min., 3 - 30 min. to 1 hour, or 4 - >1 hour)\n",
    "- **studytime**: weekly study time (numeric: 1 - <2 hours, 2 - 2 to 5 hours, 3 - 5 to 10 hours, or 4 - >10 hours)\n",
    "- **failures**: number of past class failures (numeric: n if 1<=n<3, else 4)\n",
    "- **schoolsup**: extra educational support (binary: yes or no)\n",
    "- **famsup**: family educational support (binary: yes or no)\n",
    "- **paid**: extra paid classes within the course subject (Math or Portuguese) (binary: yes or no)\n",
    "- **activities**: extra-curricular activities (binary: yes or no)\n",
    "- **nursery**: attended nursery school (binary: yes or no)\n",
    "- **higher**: wants to take higher education (binary: yes or no)\n",
    "- **internet**: Internet access at home (binary: yes or no)\n",
    "- **romantic**: with a romantic relationship (binary: yes or no)\n",
    "- **famrel**: quality of family relationships (numeric: from 1 - very bad to 5 - excellent)\n",
    "- **freetime**: free time after school (numeric: from 1 - very low to 5 - very high)\n",
    "- **goout**: going out with friends (numeric: from 1 - very low to 5 - very high)\n",
    "- **Dalc**: workday alcohol consumption (numeric: from 1 - very low to 5 - very high)\n",
    "- **Walc**: weekend alcohol consumption (numeric: from 1 - very low to 5 - very high)\n",
    "- **health**: current health status (numeric: from 1 - very bad to 5 - very good)\n",
    "- **absences**: number of school absences (numeric: from 0 to 93)\n",
    "- **G1**: first period grade (numeric: from 0 to 20)\n",
    "- **G2**: second period grade (numeric: from 0 to 20)\n",
    "- **G3**: final grade (numeric: from 0 to 20, output target)\n"
   ]
  },
  {
   "cell_type": "markdown",
   "id": "7c4e97e5",
   "metadata": {},
   "source": [
    "## Mỗi cột hiện đang có kiểu dữ liệu gì? Có cột nào có kiểu dữ liệu chưa phù hợp để có thể xử lý tiếp không?"
   ]
  },
  {
   "cell_type": "code",
   "execution_count": 7,
   "id": "f063eda8",
   "metadata": {},
   "outputs": [
    {
     "name": "stdout",
     "output_type": "stream",
     "text": [
      "<class 'pandas.core.frame.DataFrame'>\n",
      "RangeIndex: 395 entries, 0 to 394\n",
      "Data columns (total 33 columns):\n",
      " #   Column      Non-Null Count  Dtype \n",
      "---  ------      --------------  ----- \n",
      " 0   school      395 non-null    object\n",
      " 1   sex         395 non-null    object\n",
      " 2   age         395 non-null    int64 \n",
      " 3   address     395 non-null    object\n",
      " 4   famsize     395 non-null    object\n",
      " 5   Pstatus     395 non-null    object\n",
      " 6   Medu        395 non-null    int64 \n",
      " 7   Fedu        395 non-null    int64 \n",
      " 8   Mjob        395 non-null    object\n",
      " 9   Fjob        395 non-null    object\n",
      " 10  reason      395 non-null    object\n",
      " 11  guardian    395 non-null    object\n",
      " 12  traveltime  395 non-null    int64 \n",
      " 13  studytime   395 non-null    int64 \n",
      " 14  failures    395 non-null    int64 \n",
      " 15  schoolsup   395 non-null    object\n",
      " 16  famsup      395 non-null    object\n",
      " 17  paid        395 non-null    object\n",
      " 18  activities  395 non-null    object\n",
      " 19  nursery     395 non-null    object\n",
      " 20  higher      395 non-null    object\n",
      " 21  internet    395 non-null    object\n",
      " 22  romantic    395 non-null    object\n",
      " 23  famrel      395 non-null    int64 \n",
      " 24  freetime    395 non-null    int64 \n",
      " 25  goout       395 non-null    int64 \n",
      " 26  Dalc        395 non-null    int64 \n",
      " 27  Walc        395 non-null    int64 \n",
      " 28  health      395 non-null    int64 \n",
      " 29  absences    395 non-null    int64 \n",
      " 30  G1          395 non-null    int64 \n",
      " 31  G2          395 non-null    int64 \n",
      " 32  G3          395 non-null    int64 \n",
      "dtypes: int64(16), object(17)\n",
      "memory usage: 102.0+ KB\n"
     ]
    }
   ],
   "source": [
    "student_df.info()"
   ]
  },
  {
   "cell_type": "markdown",
   "id": "9cc6cab2",
   "metadata": {},
   "source": [
    "Các cột dữ liệu hiện tại đều phù hợp"
   ]
  },
  {
   "cell_type": "markdown",
   "id": "e053afe7",
   "metadata": {},
   "source": [
    "---"
   ]
  },
  {
   "cell_type": "markdown",
   "id": "925dbe56",
   "metadata": {},
   "source": [
    "## Phân bố dữ liệu"
   ]
  },
  {
   "cell_type": "markdown",
   "id": "56abfaaa",
   "metadata": {},
   "source": [
    "### Với mỗi cột có kiểu dữ liệu dạng số (numerical), các giá trị được phân bố như thế nào?"
   ]
  },
  {
   "cell_type": "code",
   "execution_count": 8,
   "id": "cb4c5efc",
   "metadata": {},
   "outputs": [
    {
     "data": {
      "text/html": [
       "<div>\n",
       "<style scoped>\n",
       "    .dataframe tbody tr th:only-of-type {\n",
       "        vertical-align: middle;\n",
       "    }\n",
       "\n",
       "    .dataframe tbody tr th {\n",
       "        vertical-align: top;\n",
       "    }\n",
       "\n",
       "    .dataframe thead th {\n",
       "        text-align: right;\n",
       "    }\n",
       "</style>\n",
       "<table border=\"1\" class=\"dataframe\">\n",
       "  <thead>\n",
       "    <tr style=\"text-align: right;\">\n",
       "      <th></th>\n",
       "      <th>age</th>\n",
       "      <th>Medu</th>\n",
       "      <th>Fedu</th>\n",
       "      <th>traveltime</th>\n",
       "      <th>studytime</th>\n",
       "      <th>failures</th>\n",
       "      <th>famrel</th>\n",
       "      <th>freetime</th>\n",
       "      <th>goout</th>\n",
       "      <th>Dalc</th>\n",
       "      <th>Walc</th>\n",
       "      <th>health</th>\n",
       "      <th>absences</th>\n",
       "      <th>G1</th>\n",
       "      <th>G2</th>\n",
       "      <th>G3</th>\n",
       "    </tr>\n",
       "  </thead>\n",
       "  <tbody>\n",
       "    <tr>\n",
       "      <th>missing_ratio</th>\n",
       "      <td>0.0</td>\n",
       "      <td>0.0</td>\n",
       "      <td>0.0</td>\n",
       "      <td>0.0</td>\n",
       "      <td>0.0</td>\n",
       "      <td>0.0</td>\n",
       "      <td>0.0</td>\n",
       "      <td>0.0</td>\n",
       "      <td>0.0</td>\n",
       "      <td>0.0</td>\n",
       "      <td>0.0</td>\n",
       "      <td>0.0</td>\n",
       "      <td>0.0</td>\n",
       "      <td>0.0</td>\n",
       "      <td>0.0</td>\n",
       "      <td>0.0</td>\n",
       "    </tr>\n",
       "    <tr>\n",
       "      <th>count</th>\n",
       "      <td>395.0</td>\n",
       "      <td>395.0</td>\n",
       "      <td>395.0</td>\n",
       "      <td>395.0</td>\n",
       "      <td>395.0</td>\n",
       "      <td>395.0</td>\n",
       "      <td>395.0</td>\n",
       "      <td>395.0</td>\n",
       "      <td>395.0</td>\n",
       "      <td>395.0</td>\n",
       "      <td>395.0</td>\n",
       "      <td>395.0</td>\n",
       "      <td>395.0</td>\n",
       "      <td>395.0</td>\n",
       "      <td>395.0</td>\n",
       "      <td>395.0</td>\n",
       "    </tr>\n",
       "    <tr>\n",
       "      <th>mean</th>\n",
       "      <td>16.7</td>\n",
       "      <td>2.7</td>\n",
       "      <td>2.5</td>\n",
       "      <td>1.4</td>\n",
       "      <td>2.0</td>\n",
       "      <td>0.3</td>\n",
       "      <td>3.9</td>\n",
       "      <td>3.2</td>\n",
       "      <td>3.1</td>\n",
       "      <td>1.5</td>\n",
       "      <td>2.3</td>\n",
       "      <td>3.6</td>\n",
       "      <td>5.7</td>\n",
       "      <td>10.9</td>\n",
       "      <td>10.7</td>\n",
       "      <td>10.4</td>\n",
       "    </tr>\n",
       "    <tr>\n",
       "      <th>std</th>\n",
       "      <td>1.3</td>\n",
       "      <td>1.1</td>\n",
       "      <td>1.1</td>\n",
       "      <td>0.7</td>\n",
       "      <td>0.8</td>\n",
       "      <td>0.7</td>\n",
       "      <td>0.9</td>\n",
       "      <td>1.0</td>\n",
       "      <td>1.1</td>\n",
       "      <td>0.9</td>\n",
       "      <td>1.3</td>\n",
       "      <td>1.4</td>\n",
       "      <td>8.0</td>\n",
       "      <td>3.3</td>\n",
       "      <td>3.8</td>\n",
       "      <td>4.6</td>\n",
       "    </tr>\n",
       "    <tr>\n",
       "      <th>min</th>\n",
       "      <td>15.0</td>\n",
       "      <td>0.0</td>\n",
       "      <td>0.0</td>\n",
       "      <td>1.0</td>\n",
       "      <td>1.0</td>\n",
       "      <td>0.0</td>\n",
       "      <td>1.0</td>\n",
       "      <td>1.0</td>\n",
       "      <td>1.0</td>\n",
       "      <td>1.0</td>\n",
       "      <td>1.0</td>\n",
       "      <td>1.0</td>\n",
       "      <td>0.0</td>\n",
       "      <td>3.0</td>\n",
       "      <td>0.0</td>\n",
       "      <td>0.0</td>\n",
       "    </tr>\n",
       "    <tr>\n",
       "      <th>25%</th>\n",
       "      <td>16.0</td>\n",
       "      <td>2.0</td>\n",
       "      <td>2.0</td>\n",
       "      <td>1.0</td>\n",
       "      <td>1.0</td>\n",
       "      <td>0.0</td>\n",
       "      <td>4.0</td>\n",
       "      <td>3.0</td>\n",
       "      <td>2.0</td>\n",
       "      <td>1.0</td>\n",
       "      <td>1.0</td>\n",
       "      <td>3.0</td>\n",
       "      <td>0.0</td>\n",
       "      <td>8.0</td>\n",
       "      <td>9.0</td>\n",
       "      <td>8.0</td>\n",
       "    </tr>\n",
       "    <tr>\n",
       "      <th>50%</th>\n",
       "      <td>17.0</td>\n",
       "      <td>3.0</td>\n",
       "      <td>2.0</td>\n",
       "      <td>1.0</td>\n",
       "      <td>2.0</td>\n",
       "      <td>0.0</td>\n",
       "      <td>4.0</td>\n",
       "      <td>3.0</td>\n",
       "      <td>3.0</td>\n",
       "      <td>1.0</td>\n",
       "      <td>2.0</td>\n",
       "      <td>4.0</td>\n",
       "      <td>4.0</td>\n",
       "      <td>11.0</td>\n",
       "      <td>11.0</td>\n",
       "      <td>11.0</td>\n",
       "    </tr>\n",
       "    <tr>\n",
       "      <th>75%</th>\n",
       "      <td>18.0</td>\n",
       "      <td>4.0</td>\n",
       "      <td>3.0</td>\n",
       "      <td>2.0</td>\n",
       "      <td>2.0</td>\n",
       "      <td>0.0</td>\n",
       "      <td>5.0</td>\n",
       "      <td>4.0</td>\n",
       "      <td>4.0</td>\n",
       "      <td>2.0</td>\n",
       "      <td>3.0</td>\n",
       "      <td>5.0</td>\n",
       "      <td>8.0</td>\n",
       "      <td>13.0</td>\n",
       "      <td>13.0</td>\n",
       "      <td>14.0</td>\n",
       "    </tr>\n",
       "    <tr>\n",
       "      <th>max</th>\n",
       "      <td>22.0</td>\n",
       "      <td>4.0</td>\n",
       "      <td>4.0</td>\n",
       "      <td>4.0</td>\n",
       "      <td>4.0</td>\n",
       "      <td>3.0</td>\n",
       "      <td>5.0</td>\n",
       "      <td>5.0</td>\n",
       "      <td>5.0</td>\n",
       "      <td>5.0</td>\n",
       "      <td>5.0</td>\n",
       "      <td>5.0</td>\n",
       "      <td>75.0</td>\n",
       "      <td>19.0</td>\n",
       "      <td>19.0</td>\n",
       "      <td>20.0</td>\n",
       "    </tr>\n",
       "  </tbody>\n",
       "</table>\n",
       "</div>"
      ],
      "text/plain": [
       "                 age   Medu   Fedu  traveltime  studytime  failures  famrel  \\\n",
       "missing_ratio    0.0    0.0    0.0         0.0        0.0       0.0     0.0   \n",
       "count          395.0  395.0  395.0       395.0      395.0     395.0   395.0   \n",
       "mean            16.7    2.7    2.5         1.4        2.0       0.3     3.9   \n",
       "std              1.3    1.1    1.1         0.7        0.8       0.7     0.9   \n",
       "min             15.0    0.0    0.0         1.0        1.0       0.0     1.0   \n",
       "25%             16.0    2.0    2.0         1.0        1.0       0.0     4.0   \n",
       "50%             17.0    3.0    2.0         1.0        2.0       0.0     4.0   \n",
       "75%             18.0    4.0    3.0         2.0        2.0       0.0     5.0   \n",
       "max             22.0    4.0    4.0         4.0        4.0       3.0     5.0   \n",
       "\n",
       "               freetime  goout   Dalc   Walc  health  absences     G1     G2  \\\n",
       "missing_ratio       0.0    0.0    0.0    0.0     0.0       0.0    0.0    0.0   \n",
       "count             395.0  395.0  395.0  395.0   395.0     395.0  395.0  395.0   \n",
       "mean                3.2    3.1    1.5    2.3     3.6       5.7   10.9   10.7   \n",
       "std                 1.0    1.1    0.9    1.3     1.4       8.0    3.3    3.8   \n",
       "min                 1.0    1.0    1.0    1.0     1.0       0.0    3.0    0.0   \n",
       "25%                 3.0    2.0    1.0    1.0     3.0       0.0    8.0    9.0   \n",
       "50%                 3.0    3.0    1.0    2.0     4.0       4.0   11.0   11.0   \n",
       "75%                 4.0    4.0    2.0    3.0     5.0       8.0   13.0   13.0   \n",
       "max                 5.0    5.0    5.0    5.0     5.0      75.0   19.0   19.0   \n",
       "\n",
       "                  G3  \n",
       "missing_ratio    0.0  \n",
       "count          395.0  \n",
       "mean            10.4  \n",
       "std              4.6  \n",
       "min              0.0  \n",
       "25%              8.0  \n",
       "50%             11.0  \n",
       "75%             14.0  \n",
       "max             20.0  "
      ]
     },
     "execution_count": 8,
     "metadata": {},
     "output_type": "execute_result"
    }
   ],
   "source": [
    "def missing_ratio(s):\n",
    "    return s.isna().mean() * 100\n",
    "df = student_df.loc[:,student_df.dtypes == np.int64]\n",
    "missing_df = df.agg([\n",
    "    missing_ratio, \n",
    "])\n",
    "nume_col_df = pd.concat([missing_df, df.describe()])\n",
    "nume_col_df.round(1)"
   ]
  },
  {
   "cell_type": "markdown",
   "id": "ce419e23",
   "metadata": {},
   "source": [
    "### Với mỗi cột có kiểu dữ liệu dạng phân loại  (categorical), các giá trị được phân bố như thế nào?"
   ]
  },
  {
   "cell_type": "code",
   "execution_count": 9,
   "id": "0e64476c",
   "metadata": {},
   "outputs": [
    {
     "data": {
      "text/html": [
       "<div>\n",
       "<style scoped>\n",
       "    .dataframe tbody tr th:only-of-type {\n",
       "        vertical-align: middle;\n",
       "    }\n",
       "\n",
       "    .dataframe tbody tr th {\n",
       "        vertical-align: top;\n",
       "    }\n",
       "\n",
       "    .dataframe thead th {\n",
       "        text-align: right;\n",
       "    }\n",
       "</style>\n",
       "<table border=\"1\" class=\"dataframe\">\n",
       "  <thead>\n",
       "    <tr style=\"text-align: right;\">\n",
       "      <th></th>\n",
       "      <th>school</th>\n",
       "      <th>sex</th>\n",
       "      <th>address</th>\n",
       "      <th>famsize</th>\n",
       "      <th>Pstatus</th>\n",
       "      <th>Mjob</th>\n",
       "      <th>Fjob</th>\n",
       "      <th>reason</th>\n",
       "      <th>guardian</th>\n",
       "      <th>schoolsup</th>\n",
       "      <th>famsup</th>\n",
       "      <th>paid</th>\n",
       "      <th>activities</th>\n",
       "      <th>nursery</th>\n",
       "      <th>higher</th>\n",
       "      <th>internet</th>\n",
       "      <th>romantic</th>\n",
       "    </tr>\n",
       "  </thead>\n",
       "  <tbody>\n",
       "    <tr>\n",
       "      <th>missing_ratio</th>\n",
       "      <td>0.0</td>\n",
       "      <td>0.0</td>\n",
       "      <td>0.0</td>\n",
       "      <td>0.0</td>\n",
       "      <td>0.0</td>\n",
       "      <td>0.0</td>\n",
       "      <td>0.0</td>\n",
       "      <td>0.0</td>\n",
       "      <td>0.0</td>\n",
       "      <td>0.0</td>\n",
       "      <td>0.0</td>\n",
       "      <td>0.0</td>\n",
       "      <td>0.0</td>\n",
       "      <td>0.0</td>\n",
       "      <td>0.0</td>\n",
       "      <td>0.0</td>\n",
       "      <td>0.0</td>\n",
       "    </tr>\n",
       "    <tr>\n",
       "      <th>num_diff_vals</th>\n",
       "      <td>2</td>\n",
       "      <td>2</td>\n",
       "      <td>2</td>\n",
       "      <td>2</td>\n",
       "      <td>2</td>\n",
       "      <td>5</td>\n",
       "      <td>5</td>\n",
       "      <td>4</td>\n",
       "      <td>3</td>\n",
       "      <td>2</td>\n",
       "      <td>2</td>\n",
       "      <td>2</td>\n",
       "      <td>2</td>\n",
       "      <td>2</td>\n",
       "      <td>2</td>\n",
       "      <td>2</td>\n",
       "      <td>2</td>\n",
       "    </tr>\n",
       "    <tr>\n",
       "      <th>diff_vals</th>\n",
       "      <td>[GP, MS]</td>\n",
       "      <td>[F, M]</td>\n",
       "      <td>[U, R]</td>\n",
       "      <td>[GT3, LE3]</td>\n",
       "      <td>[A, T]</td>\n",
       "      <td>[at_home, health, other, services, teacher]</td>\n",
       "      <td>[teacher, other, services, health, at_home]</td>\n",
       "      <td>[course, other, home, reputation]</td>\n",
       "      <td>[mother, father, other]</td>\n",
       "      <td>[yes, no]</td>\n",
       "      <td>[no, yes]</td>\n",
       "      <td>[no, yes]</td>\n",
       "      <td>[no, yes]</td>\n",
       "      <td>[yes, no]</td>\n",
       "      <td>[yes, no]</td>\n",
       "      <td>[no, yes]</td>\n",
       "      <td>[no, yes]</td>\n",
       "    </tr>\n",
       "    <tr>\n",
       "      <th>most_frequent</th>\n",
       "      <td>GP</td>\n",
       "      <td>F</td>\n",
       "      <td>U</td>\n",
       "      <td>GT3</td>\n",
       "      <td>T</td>\n",
       "      <td>other</td>\n",
       "      <td>other</td>\n",
       "      <td>course</td>\n",
       "      <td>mother</td>\n",
       "      <td>no</td>\n",
       "      <td>yes</td>\n",
       "      <td>no</td>\n",
       "      <td>yes</td>\n",
       "      <td>yes</td>\n",
       "      <td>yes</td>\n",
       "      <td>yes</td>\n",
       "      <td>no</td>\n",
       "    </tr>\n",
       "    <tr>\n",
       "      <th>most_infrequent</th>\n",
       "      <td>MS</td>\n",
       "      <td>M</td>\n",
       "      <td>R</td>\n",
       "      <td>LE3</td>\n",
       "      <td>A</td>\n",
       "      <td>health</td>\n",
       "      <td>health</td>\n",
       "      <td>other</td>\n",
       "      <td>other</td>\n",
       "      <td>yes</td>\n",
       "      <td>no</td>\n",
       "      <td>yes</td>\n",
       "      <td>no</td>\n",
       "      <td>no</td>\n",
       "      <td>no</td>\n",
       "      <td>no</td>\n",
       "      <td>yes</td>\n",
       "    </tr>\n",
       "  </tbody>\n",
       "</table>\n",
       "</div>"
      ],
      "text/plain": [
       "                   school     sex address     famsize Pstatus  \\\n",
       "missing_ratio         0.0     0.0     0.0         0.0     0.0   \n",
       "num_diff_vals           2       2       2           2       2   \n",
       "diff_vals        [GP, MS]  [F, M]  [U, R]  [GT3, LE3]  [A, T]   \n",
       "most_frequent          GP       F       U         GT3       T   \n",
       "most_infrequent        MS       M       R         LE3       A   \n",
       "\n",
       "                                                        Mjob  \\\n",
       "missing_ratio                                            0.0   \n",
       "num_diff_vals                                              5   \n",
       "diff_vals        [at_home, health, other, services, teacher]   \n",
       "most_frequent                                          other   \n",
       "most_infrequent                                       health   \n",
       "\n",
       "                                                        Fjob  \\\n",
       "missing_ratio                                            0.0   \n",
       "num_diff_vals                                              5   \n",
       "diff_vals        [teacher, other, services, health, at_home]   \n",
       "most_frequent                                          other   \n",
       "most_infrequent                                       health   \n",
       "\n",
       "                                            reason                 guardian  \\\n",
       "missing_ratio                                  0.0                      0.0   \n",
       "num_diff_vals                                    4                        3   \n",
       "diff_vals        [course, other, home, reputation]  [mother, father, other]   \n",
       "most_frequent                               course                   mother   \n",
       "most_infrequent                              other                    other   \n",
       "\n",
       "                 schoolsup     famsup       paid activities    nursery  \\\n",
       "missing_ratio          0.0        0.0        0.0        0.0        0.0   \n",
       "num_diff_vals            2          2          2          2          2   \n",
       "diff_vals        [yes, no]  [no, yes]  [no, yes]  [no, yes]  [yes, no]   \n",
       "most_frequent           no        yes         no        yes        yes   \n",
       "most_infrequent        yes         no        yes         no         no   \n",
       "\n",
       "                    higher   internet   romantic  \n",
       "missing_ratio          0.0        0.0        0.0  \n",
       "num_diff_vals            2          2          2  \n",
       "diff_vals        [yes, no]  [no, yes]  [no, yes]  \n",
       "most_frequent          yes        yes         no  \n",
       "most_infrequent         no         no        yes  "
      ]
     },
     "execution_count": 9,
     "metadata": {},
     "output_type": "execute_result"
    }
   ],
   "source": [
    "def missing_ratio(s):\n",
    "    return s.isna().mean() * 100\n",
    "def num_diff_vals(s):\n",
    "    return s.dropna().nunique()\n",
    "def diff_vals(s):\n",
    "    return s.dropna().unique()\n",
    "def most_frequent(s):\n",
    "    return s.value_counts().idxmax()\n",
    "def most_infrequent(s):\n",
    "    return s.value_counts().idxmin()\n",
    "student_df.loc[:,student_df.dtypes != np.int64].agg([\n",
    "    missing_ratio, \n",
    "    num_diff_vals,\n",
    "    diff_vals,\n",
    "    most_frequent,\n",
    "    most_infrequent,\n",
    "])"
   ]
  },
  {
   "cell_type": "markdown",
   "id": "bb60dea2",
   "metadata": {},
   "source": [
    "---"
   ]
  },
  {
   "cell_type": "markdown",
   "id": "73d2c375",
   "metadata": {},
   "source": [
    "# C. Đặt câu hỏi "
   ]
  },
  {
   "cell_type": "markdown",
   "id": "ad6d4753",
   "metadata": {},
   "source": [
    "### Câu 1: Đâu là nguyên nhân chủ yếu dẫn tới kết quả học tập thấp của học sinh ?"
   ]
  },
  {
   "cell_type": "markdown",
   "id": "75297cdc",
   "metadata": {},
   "source": [
    "### Câu 2: Mối quan hệ hẹn hò ảnh hướng tới kết quả học tập của các bạn nam, bạn nữ như thế nào ?"
   ]
  },
  {
   "cell_type": "markdown",
   "id": "f1028fba",
   "metadata": {},
   "source": [
    "### Câu 3: Thời gian dành cho việc học ảnh hưởng như thế nào đến kết quả thi toán ?"
   ]
  },
  {
   "cell_type": "markdown",
   "id": "c6c6edf2",
   "metadata": {},
   "source": [
    "### Câu 4: Uống rượu ảnh hưởng như thế nào đến kết quả kì thi Toán ?"
   ]
  },
  {
   "cell_type": "markdown",
   "id": "fb6baedc",
   "metadata": {},
   "source": [
    "## Tiền xử lí và phân tích dữ liệu để trả lời cho từng câu hỏi"
   ]
  },
  {
   "cell_type": "markdown",
   "id": "716949a5",
   "metadata": {},
   "source": [
    "### Câu 1: Đâu là  nguyên nhân chủ yếu dẫn tới kết quả học tập thấp của học sinh ?"
   ]
  },
  {
   "cell_type": "markdown",
   "id": "b2b58df1",
   "metadata": {},
   "source": [
    "#### Trả lời được câu hỏi nãy sẽ giúp ta :"
   ]
  },
  {
   "cell_type": "markdown",
   "id": "575bd037",
   "metadata": {},
   "source": [
    "- Biết được nguyên nhân ảnh hưởng đến kết quả học tập thấp của học sinh\n",
    "- Tìm ra giải pháp để cải thiện kết quả học tập"
   ]
  },
  {
   "cell_type": "markdown",
   "id": "b49ebfcf",
   "metadata": {},
   "source": [
    "Nguyên nhân ảnh hưởng tới kết quả học tập có thể kể đến như:\n",
    "- Sử dụng nhiều rượu bia\n",
    "- Mối quan hệ với gia đình không tốt\n",
    "- Thời gian học ít\n",
    "- Quan hệ tình cảm, hẹn hò\n",
    "- Không muốn học đại học\n",
    "- Sức khỏe không được tốt\n",
    "- Thời gian tới trường lâu\n",
    "- Nghỉ học nhiều\n",
    "- Thất bại trong lớp học ở quá khứ (Mình dịch sát theo nghĩa của file mô tả, theo quan điểm cá nhân thì có thể là số lần ở lại lớp trong quá khứ)\n",
    "- Không không chi trả cho các khóa học thêm\n",
    "- Ba mẹ không sống cùng với nhau\n"
   ]
  },
  {
   "cell_type": "markdown",
   "id": "21f4505d",
   "metadata": {},
   "source": [
    "### Tiền xử lý"
   ]
  },
  {
   "cell_type": "markdown",
   "id": "3cac93ac",
   "metadata": {},
   "source": [
    "- Thêm một `G_avg` để tính điểm trung bình bằng cách lấy cả 3 kì thi công lại chia cho 3\n",
    "- Thêm cột mức độ uống rượu của học sinh `alc` bằng cách lấy cột mức độ uống rượu hàng ngày cộng với uống rượu cuối tuần\n",
    "- Giá trị của thời gian học từ mức 1 đến 4 ta sẽ thay thế giá trị rõ hơn cho nó để dễ dàng quan sát.\n"
   ]
  },
  {
   "cell_type": "code",
   "execution_count": 10,
   "id": "6c92756e",
   "metadata": {},
   "outputs": [],
   "source": [
    "#Tính điểm trung bình của 3 kì thi\n",
    "student_df[\"G_avg\"] = (student_df[\"G1\"] + \\\n",
    "                       student_df[\"G2\"] + \\\n",
    "                       student_df[\"G3\"]) / 3\n",
    "#Tính mức độ uống rượu của học sinh\n",
    "student_df[\"alc\"] = (student_df[\"Dalc\"]+ student_df[\"Walc\"])\n",
    "#Chuyển về dạng phân loại cho trực quan hơn\n",
    "student_df['studytime'] = student_df['studytime'].replace({\n",
    "    1: '< 2 giờ',\n",
    "    2: '2 - 5 giờ',\n",
    "    3: '5 - 10 giờ',\n",
    "    4: '> 10 giờ'\n",
    "})"
   ]
  },
  {
   "cell_type": "markdown",
   "id": "ce56b708",
   "metadata": {},
   "source": [
    "#### Các bước để trả lời cho câu hỏi trên:"
   ]
  },
  {
   "cell_type": "markdown",
   "id": "ea53df17",
   "metadata": {},
   "source": [
    "**Bước 1:**\n",
    "\n",
    "- Lấy ra danh sách các học sinh có điểm trung bình `G_avg` <10 và đặt tên là `bad_grade_df`\n",
    "- Thêm các thuộc tính nhị phân là các nguyên nhân ở trên ,và tính toán để tìm ra thuộc tính có số học sinh chiếm nhiều nhất\n",
    " - `high_alc` có mức độ sử dụng rượu bia `alc` cao hơn 5\n",
    " - `bad_famrel` có chất lượng mối quan hệ gia đình `famrel` bé hơn 3\n",
    " - `low_studytime` có thời gian học tập `studytime` bé hơn 2 giờ\n",
    " - `dating` có mối quan hệ tình cảm, hẹn hò `romantic` = `yes`\n",
    " - `no_want_higher_edu` không muốn học đại học `higher` = `no`\n",
    " - `bad_health` có sức khỏe `health` bé hơn 3\n",
    " - `last_traveltime` có thời gian di chuyển `traveltime` lớn hơn bằng 3 (lớn hơn bằng 30 phút)\n",
    " - `many_absences` có số buổi nghỉ học `absences` lớn hơn 5 (trung vị tính được là 5)\n",
    " - `is_failure` đã từng bị thất bại `failure` lớn hơn 0\n",
    " - `no_paid` không chi trả cho các khóa học thêm `paid` = `no`\n",
    " - `A_Pstatus` Ba mẹ không sống chung với nhau `Pstatus` = `A`\n",
    " \n",
    "**Bước 2:**\n",
    "- Vẽ biểu đồ barh thể hiện số lượng học sinh ở mỗi nguyên nhân được nêu\n",
    "\n",
    "**Bước 3:**\n",
    "- trực quan hóa giá trị của nguyên nhân đối với những học sinh có điểm trung bình `G_avg` <10 và >=10 và đưa ra nhận xét\n"
   ]
  },
  {
   "cell_type": "markdown",
   "id": "46b98b8d",
   "metadata": {},
   "source": [
    "**Code bước 1**"
   ]
  },
  {
   "cell_type": "code",
   "execution_count": 11,
   "id": "78a27791",
   "metadata": {},
   "outputs": [
    {
     "data": {
      "text/plain": [
       "high_alc              39\n",
       "bad_famrel             9\n",
       "low_studytime         48\n",
       "dating                59\n",
       "no_want_higher_edu    14\n",
       "bad_health            34\n",
       "last_traveltime       18\n",
       "many_absences         64\n",
       "is_failure            59\n",
       "no_paid               94\n",
       "A_Pstatus             15\n",
       "dtype: int64"
      ]
     },
     "execution_count": 11,
     "metadata": {},
     "output_type": "execute_result"
    }
   ],
   "source": [
    "bad_grade_df = student_df[student_df[\"G_avg\"]<10]\n",
    "good_grade_df = student_df[student_df[\"G_avg\"]>=10]\n",
    "bad_grade_df[\"high_alc\"] = (bad_grade_df[\"alc\"]) > 5\n",
    "bad_grade_df[\"bad_famrel\"] = bad_grade_df[\"famrel\"] < 3\n",
    "bad_grade_df[\"low_studytime\"] = bad_grade_df[\"studytime\"] == \"< 2 giờ\"\n",
    "bad_grade_df[\"dating\"] = bad_grade_df[\"romantic\"] == \"yes\"\n",
    "bad_grade_df[\"no_want_higher_edu\"] = bad_grade_df[\"higher\"] == \"no\"\n",
    "bad_grade_df[\"bad_health\"] = bad_grade_df[\"health\"]<3\n",
    "bad_grade_df[\"last_traveltime\"] = bad_grade_df[\"traveltime\"]>=3\n",
    "bad_grade_df[\"many_absences\"] = bad_grade_df[\"absences\"]>5\n",
    "bad_grade_df[\"is_failure\"] = bad_grade_df[\"failures\"]>0\n",
    "bad_grade_df[\"no_paid\"] = bad_grade_df[\"paid\"]==\"no\"\n",
    "bad_grade_df[\"A_Pstatus\"] = bad_grade_df[\"Pstatus\"]==\"A\"\n",
    "df = bad_grade_df[[\"high_alc\",\n",
    "    \"bad_famrel\",\n",
    "    \"low_studytime\",\n",
    "    \"dating\",\n",
    "    \"no_want_higher_edu\",\n",
    "    \"bad_health\",\n",
    "    \"last_traveltime\",\n",
    "    \"many_absences\",\n",
    "    \"is_failure\",\n",
    "    \"no_paid\",\n",
    "    \"A_Pstatus\"\n",
    "   ]]\n",
    "df = df.agg(lambda x : (x==1).sum())\n",
    "df"
   ]
  },
  {
   "cell_type": "markdown",
   "id": "51c9f51b",
   "metadata": {},
   "source": [
    "**Code bước 2**"
   ]
  },
  {
   "cell_type": "code",
   "execution_count": 28,
   "id": "5ef7ffe7",
   "metadata": {},
   "outputs": [
    {
     "data": {
      "text/plain": [
       "Text(0.5, 1.0, 'Nguyên nhân dẫn đến kết quả học tập không tốt')"
      ]
     },
     "execution_count": 28,
     "metadata": {},
     "output_type": "execute_result"
    },
    {
     "data": {
      "image/png": "[encoded data removed]",
      "text/plain": [
       "<Figure size 432x288 with 1 Axes>"
      ]
     },
     "metadata": {
      "needs_background": "light"
     },
     "output_type": "display_data"
    }
   ],
   "source": [
    "df = df.sort_values(ascending=False)\n",
    "p = sns.barplot(y=df.keys(),x=df.values);\n",
    "p.set_xlabel(\"số lượng\",fontsize = 20)\n",
    "p.set_ylabel(\"Nguyên nhân\", fontsize = 20)\n",
    "plt.title(\"Nguyên nhân dẫn đến kết quả học tập không tốt\",\n",
    "         fontsize = 20)"
   ]
  },
  {
   "cell_type": "markdown",
   "id": "7e60d418",
   "metadata": {},
   "source": [
    "- Từ kết quả thống kể được, ta thấy nguyên nhân ảnh hưởng lớn nhất là không chi trả cho các khóa học thêm\n"
   ]
  },
  {
   "cell_type": "markdown",
   "id": "e34c205a",
   "metadata": {},
   "source": [
    "**Code bước 3**"
   ]
  },
  {
   "cell_type": "markdown",
   "id": "073b3c6b",
   "metadata": {},
   "source": [
    "- Ta tiến hành kiểm chứng lại nguyên nhân này\n"
   ]
  },
  {
   "cell_type": "code",
   "execution_count": 13,
   "id": "256c3ebc",
   "metadata": {},
   "outputs": [
    {
     "data": {
      "text/plain": [
       "no      94\n",
       "yes     70\n",
       "no     120\n",
       "yes    111\n",
       "Name: paid, dtype: int64"
      ]
     },
     "execution_count": 13,
     "metadata": {},
     "output_type": "execute_result"
    }
   ],
   "source": [
    "labels = student_df[\"paid\"].unique()\n",
    "amount = student_df[\"paid\"].value_counts()\n",
    "amount2 = bad_grade_df[\"paid\"].value_counts()\n",
    "amount3 = good_grade_df[\"paid\"].value_counts()\n",
    "s = pd.concat([amount2,amount3])\n",
    "s"
   ]
  },
  {
   "cell_type": "markdown",
   "id": "dd00f3ed",
   "metadata": {},
   "source": [
    "- Ta chuyển dòng `yes 70` xuống cuối để phù hợp với giá trị yes no của `paid` khi vẽ donut chart bằng cách lấy phần giá trị của series `s` và thực hiện di chuyển giá trị 70 xuống cuối"
   ]
  },
  {
   "cell_type": "code",
   "execution_count": 14,
   "id": "ded8947c",
   "metadata": {},
   "outputs": [
    {
     "data": {
      "text/plain": [
       "array([ 94, 120, 111,  70], dtype=int64)"
      ]
     },
     "execution_count": 14,
     "metadata": {},
     "output_type": "execute_result"
    }
   ],
   "source": [
    "a = s.to_numpy()\n",
    "a[1],a[2],a[3] =a[2],a[3],a[1]\n",
    "a"
   ]
  },
  {
   "cell_type": "markdown",
   "id": "d181c098",
   "metadata": {},
   "source": [
    "- Tiến hành vẽ đồ thị donut"
   ]
  },
  {
   "cell_type": "code",
   "execution_count": 15,
   "id": "623ae199",
   "metadata": {},
   "outputs": [
    {
     "data": {
      "image/png": "[encoded data removed]",
      "text/plain": [
       "<Figure size 576x432 with 1 Axes>"
      ]
     },
     "metadata": {},
     "output_type": "display_data"
    }
   ],
   "source": [
    "# Setting figure colors\n",
    "cmap = plt.get_cmap(\"tab20c\")\n",
    "outer_colors = cmap([0,4])\n",
    "inner_colors = cmap(np.array([12,8,8,12]))\n",
    "# Setting the size of the figure\n",
    "plt.figure(figsize=(8,6))\n",
    "# Plotting the outer pie\n",
    "plt.pie(amount, labels = student_df[\"paid\"].unique(), \n",
    "       startangle=90, pctdistance =0.88 ,colors=outer_colors,\n",
    "       autopct = '%1.1f%%', radius= 1.0, labeldistance=1.05,\n",
    "       textprops ={ 'fontweight': 'bold','fontsize':13},\n",
    "       wedgeprops = {'linewidth' : 3, 'edgecolor' : \"w\" } )\n",
    "# PLotting the inner pie\n",
    "plt.pie(a,startangle=90, \n",
    "        labels = [\"G_avg <10\",\"G_avg >=10\",\"G_avg >=10\",\"G_avg <10\"],\n",
    "        pctdistance =0.85,colors=inner_colors,\n",
    "        autopct = '%1.1f%%',\n",
    "        radius= 0.60,\n",
    "        textprops ={'fontweight': 'bold' ,'fontsize':13}, \n",
    "        wedgeprops = {'linewidth' : 3, 'edgecolor' : \"w\" } )\n",
    "# Creating the donut shape for the pie\n",
    "centre_circle = plt.Circle((0,0), 0.25, fc='white')\n",
    "fig= plt.gcf()\n",
    "fig.gca().add_artist(centre_circle) # adding the centre circle\n",
    "# Plotting the pie \n",
    "plt.axis('equal')  # equal aspect ratio\n",
    "plt.legend( loc=1, fontsize =12)\n",
    "plt.tight_layout()"
   ]
  },
  {
   "cell_type": "markdown",
   "id": "5894dd46",
   "metadata": {},
   "source": [
    "- Ta thấy được rõ hơn về ảnh hưởng của việc không chi trả phí cho khóa học thêm Toán, có tới 41.5% số học sinh đạt kết quả xấu thì việc không đi học thêm (chi trả phí cho các khóa học thêm) chiếm tới 23.8 %(tỉ lệ này đối với các nguyên nhân khác sẽ thấp hơn)\n",
    "- Xét trên thực tế (điển hình như ở Việt Nam) những học sinh đạt kết quả không tốt đa phần là không đi học thêm \n",
    "\n",
    "**Nếu ta đặt trường hợp các bạn học sinh có kết quả xấu này đều đăng kí đi học thêm thì kết quả thu được sẽ thế nào nhỉ ?**\n",
    "- Quan sát thống kê từ đồ thị ở trên cho thấy số lượng sinh viên có kết quả không tốt và có đi học thêm vẫn chiếm tỉ trọng khá cao trong tổng số sinh viên đạt kết quả không tốt (17.7% so với 41.5%)\n",
    "- Điều này cho thấy dù có đi học thêm cũng không đảm bảo sẽ thu về kết quả tốt nếu ta không cố gắng học tập\n",
    "\n",
    "**Kết luận**\n",
    "- Theo như thống kê, việc không chi trả phí cho các khóa học thêm có ảnh hưởng tới kết quả học tập của học sinh nhiều hơn so với các nguyên nhân khác\n",
    "- Nhưng trên thực tế,nguyên nhân này vẫn còn khá khách quan, không thể đảm bảo rằng sau khi khắc phục sẽ cải thiện hoàn toàn kết quả học tập cho học sinh"
   ]
  },
  {
   "cell_type": "markdown",
   "id": "ffdf6d33",
   "metadata": {},
   "source": [
    "### Câu 2: Mối quan hệ hẹn hò ảnh hướng tới kết quả học tập của các bạn nam, bạn nữ như thế nào ?"
   ]
  },
  {
   "cell_type": "markdown",
   "id": "830003c8",
   "metadata": {},
   "source": [
    "#### Trả lời được câu hỏi nãy sẽ giúp ta :"
   ]
  },
  {
   "cell_type": "markdown",
   "id": "a6521d19",
   "metadata": {},
   "source": [
    "- Biết được nam hay nữ sẽ bị ảnh hưởng nhiều hơn\n",
    "- Từ đó đưa ra giải pháp thích hợp để khác phục "
   ]
  },
  {
   "cell_type": "markdown",
   "id": "682587eb",
   "metadata": {},
   "source": [
    "#### Các bước để trả lời cho câu hỏi trên:"
   ]
  },
  {
   "cell_type": "markdown",
   "id": "abfb073a",
   "metadata": {},
   "source": [
    "**Bước 1:**\n",
    "\n",
    "- vẽ biểu đồ tròn thể hiện tỉ lệ nam nữ trong dữ liệu xem có gì bất ổn không ?\n",
    "\n",
    "**Bước 2:**\n",
    "\n",
    "- Vẽ biểu đồ bar plot thể hiện mức điểm trung bình `G1`, `G2`, `G3`, `G_avg` của các bạn nam, nữ khi có và không có mối quan hệ hẹn hò và đưa ra nhận xét."
   ]
  },
  {
   "cell_type": "markdown",
   "id": "7b97f70e",
   "metadata": {},
   "source": [
    "**Code bước 1**"
   ]
  },
  {
   "cell_type": "code",
   "execution_count": 16,
   "id": "d0f67195",
   "metadata": {},
   "outputs": [
    {
     "data": {
      "text/plain": [
       "Text(0.5, 1.0, 'Tỉ lệ nam, nữ')"
      ]
     },
     "execution_count": 16,
     "metadata": {},
     "output_type": "execute_result"
    },
    {
     "data": {
      "image/png": "[encoded data removed]",
      "text/plain": [
       "<Figure size 432x288 with 1 Axes>"
      ]
     },
     "metadata": {},
     "output_type": "display_data"
    }
   ],
   "source": [
    "labels = student_df[\"sex\"].unique()\n",
    "amount = student_df[\"sex\"].value_counts()\n",
    "fig = plt.figure()\n",
    "ax = fig.add_axes([0,0,1,1])\n",
    "ax.pie(amount, labels = labels,autopct='%1.2f%%');\n",
    "plt.title(\"Tỉ lệ nam, nữ\",\n",
    "         fontsize = 20)"
   ]
  },
  {
   "cell_type": "markdown",
   "id": "1ce9f169",
   "metadata": {},
   "source": [
    "- Tỉ lệ nam, nữ chênh lệch khá ít nên không ảnh hưởng nhiều tới kết quả bên dưới. \n"
   ]
  },
  {
   "cell_type": "markdown",
   "id": "4a845641",
   "metadata": {},
   "source": [
    "**Code bước 2**"
   ]
  },
  {
   "cell_type": "code",
   "execution_count": 27,
   "id": "db4c0bfc",
   "metadata": {},
   "outputs": [
    {
     "data": {
      "text/plain": [
       "Text(0.5, 1.0, 'Kết quả học tập của nam, nữ khi không có và có hẹn hò')"
      ]
     },
     "execution_count": 27,
     "metadata": {},
     "output_type": "execute_result"
    },
    {
     "data": {
      "image/png": "[encoded data removed]",
      "text/plain": [
       "<Figure size 720x360 with 1 Axes>"
      ]
     },
     "metadata": {
      "needs_background": "light"
     },
     "output_type": "display_data"
    }
   ],
   "source": [
    "table = pd.pivot_table(data=student_df,index=['romantic','sex'])\n",
    "p = table[[\"G1\",\"G2\",\"G3\",\"G_avg\"]].plot(kind='bar')\n",
    "plt.gcf().set_size_inches(10,5)\n",
    "p.set_ylabel(\"Điểm trung bình\",fontsize = 20)\n",
    "p.set_xlabel(\"hẹn hò, giới tính\", fontsize = 20)\n",
    "plt.title(\"Kết quả học tập của nam, nữ khi không có và có hẹn hò\",\n",
    "         fontsize = 20)"
   ]
  },
  {
   "cell_type": "markdown",
   "id": "ca44ee27",
   "metadata": {},
   "source": [
    "- Những học sinh không có mối quan hệ hẹn hò nào giúp cho điểm số `G1`, `G2`, `G3`, ổn định hơn so với những học sinh có mối quan hệ hẹn hò\n",
    "- Có điểm đáng chú ý là điểm số của các bạn nam có mối quan hệ hẹn hò vẫn ở mức chấp nhận được (mức điểm trung bình >10), điểm số 3 bài kiểm tra không chênh lệch quá nhiều so với các bạn nữ. Điều này cho thấy tâm lí của các bạn nam vững vàng hơn, không để các mối quan hệ khác ảnh hưởng tới việc học\n",
    "- Ngược lại với các bạn nam, điểm số 3 bài kiểm tra của các bạn nữ có mối quan hệ hẹn hò chênh lệch khá nhiều. Đầu năm học điểm số vẫn khá tốt nhưng đi đến cuối năm học thì điểm số ngày càng giảm. Điều này cho thấy được việc học của các bạn nữ dễ bị ảnh hưởng bởi các mối quan hệ bên ngoài\n",
    "\n",
    "**Kết luận:**\n",
    "- Việc yêu đương, hẹn hò ít nhiều cũng ảnh hưởng tới kết quả học tập. Khi mối quan hệ hẹn hò rạn nứt hoặc quá chìm đắm vào mối quan hệ này sẽ khiến cho ta lơ đãng đi việc học tập của mình. \n",
    "- Việc hẹn hò không xấu, nhưng chúng ta cần tránh để nó ảnh hưởng tới việc học tập. Ở trong khảo sát, các bạn nam đã làm điều này tốt hơn các bạn nữ\n"
   ]
  },
  {
   "cell_type": "markdown",
   "id": "72688209",
   "metadata": {},
   "source": [
    "### Câu 3: Thời gian dành cho việc học ảnh hưởng như thế nào đến kết quả thi toán?"
   ]
  },
  {
   "cell_type": "markdown",
   "id": "51098a9d",
   "metadata": {},
   "source": [
    "#### Trả lời được câu hỏi nãy sẽ giúp ta :"
   ]
  },
  {
   "cell_type": "markdown",
   "id": "726c3720",
   "metadata": {},
   "source": [
    "- Biết được để đạt được kết quả thi tốt nhất cho môn toán thì học sinh cần thời gian dành cho việc học bao nhiêu là hợp lý \n",
    "- Đưa ra được kế hoạch học tập cho riêng mình"
   ]
  },
  {
   "cell_type": "markdown",
   "id": "9577b4a5",
   "metadata": {},
   "source": [
    "#### Các bước để trả lời cho câu hỏi trên:\n",
    "    "
   ]
  },
  {
   "cell_type": "markdown",
   "id": "c0568365",
   "metadata": {},
   "source": [
    "**Bước 1:**\n",
    "\n",
    "- Xem tỉ lệ phần trăm các học sinh dành cho việc học là bao nhiêu bằng biểu đồ tròn\n",
    "\n",
    "**Bước 2:**\n",
    "\n",
    "- Vẽ biểu đồ box plot thể hiện điểm trung bình kết quả môn toán phụ thuộc vào thời gian học của học sinh như thế nào ?"
   ]
  },
  {
   "cell_type": "markdown",
   "id": "f00f4cbd",
   "metadata": {},
   "source": [
    "**Code bước 1**"
   ]
  },
  {
   "cell_type": "code",
   "execution_count": 18,
   "id": "438dfd38",
   "metadata": {},
   "outputs": [
    {
     "data": {
      "image/png": "[encoded data removed]",
      "text/plain": [
       "<Figure size 432x288 with 1 Axes>"
      ]
     },
     "metadata": {},
     "output_type": "display_data"
    }
   ],
   "source": [
    "labels = student_df[\"studytime\"].unique().tolist()\n",
    "amount = student_df[\"studytime\"].value_counts().tolist()\n",
    "fig = plt.figure()\n",
    "ax = fig.add_axes([0,0,1,1])\n",
    "ax.pie(amount, labels = labels,autopct='%1.2f%%');"
   ]
  },
  {
   "cell_type": "markdown",
   "id": "3f4f812b",
   "metadata": {},
   "source": [
    "- Hầu hết các học sinh dành từ 2 đến 5 giờ và 5 đến 10 giờ 1 tuần để học. "
   ]
  },
  {
   "cell_type": "markdown",
   "id": "3464aa20",
   "metadata": {},
   "source": [
    "**Code bước 2**"
   ]
  },
  {
   "cell_type": "code",
   "execution_count": 19,
   "id": "be124689",
   "metadata": {},
   "outputs": [
    {
     "data": {
      "text/plain": [
       "Text(0, 0.5, 'Thời gian học')"
      ]
     },
     "execution_count": 19,
     "metadata": {},
     "output_type": "execute_result"
    },
    {
     "data": {
      "image/png": "[encoded data removed]",
      "text/plain": [
       "<Figure size 1296x504 with 1 Axes>"
      ]
     },
     "metadata": {
      "needs_background": "light"
     },
     "output_type": "display_data"
    }
   ],
   "source": [
    "plt.figure(figsize=(18,7))\n",
    "plt.title(\"Box plot cho điểm trung bình của học sinh phụ thuộc vào thời gian học\",\n",
    "         fontsize = 20)\n",
    "sns.boxplot(y=\"studytime\", \n",
    "            x=\"G_avg\", \n",
    "            data = student_df, \n",
    "            orient=\"h\", \n",
    "            palette = 'rainbow')\n",
    "plt.xlabel(\"Điểm trung bình\",fontsize = 20)\n",
    "plt.ylabel(\"Thời gian học\",fontsize = 20)"
   ]
  },
  {
   "cell_type": "markdown",
   "id": "9493a534",
   "metadata": {},
   "source": [
    "- Kết quả trung bình thấp nhất được chỉ ra bởi những sinh viên dành ít hơn hai giờ một tuần để học tập. Điều đó là tất nhiên ! Mình là sinh viên mình có thể thấy được thời gian này là không đủ.\n",
    "- Rất ít sinh viên dành 10 giờ 1 tuần để học. Nhưng điều đó cho ta thấy kết quả rất tốt. \n",
    "\n",
    "**Kết luận**\n",
    "\n",
    "- Chúng ta nên chăm chỉ học tập hơn, dành nhiều thời gian để mài dũa kỹ năng, học tập của mình để đạt được kết quả tốt nhất"
   ]
  },
  {
   "cell_type": "markdown",
   "id": "3496fba6",
   "metadata": {},
   "source": [
    "### Câu 4: Uống rượu ảnh hưởng như thế nào đến kết quả kì thi Toán ?"
   ]
  },
  {
   "cell_type": "markdown",
   "id": "e93785ac",
   "metadata": {},
   "source": [
    "#### Trả lời được câu hỏi nãy sẽ giúp ta :\n"
   ]
  },
  {
   "cell_type": "markdown",
   "id": "78e72222",
   "metadata": {},
   "source": [
    "- Biết được học sinh uống rượu có phải là tốt\n",
    "- Đưa ra phương án với mỗi học sinh có đặc điểm gì thì tốt nhất không nên uống rượu\n",
    "- Có thể đưa ra kinh nghiệm cho bản thân mình có nên uống rượu không"
   ]
  },
  {
   "cell_type": "markdown",
   "id": "b0bdd335",
   "metadata": {},
   "source": [
    "#### Các bước thực hiện"
   ]
  },
  {
   "cell_type": "markdown",
   "id": "f089179a",
   "metadata": {},
   "source": [
    "**Bước 1:** \n",
    "\n",
    "- Chia thành 5 mức độ uống rượu là Rất ít, Ít, Bình Thường, Nhiều và Rất nhiều\n",
    "\n",
    "**Bước 2:** \n",
    "\n",
    "- Vẽ biểu đồ tròn và cột để xem tỉ lệ và số học sinh uống rượu theo từng mức độ như thế nào\n",
    "\n",
    "**Bước 3:** \n",
    "\n",
    "- Vẽ biểu đồ cột thể hiện việc uống rượu của sinh ảnh hưởng đến điểm trung bình theo các đặc điểm giới tính, trường, quan hệ hẹn hò, sức khỏe, khu vực \n"
   ]
  },
  {
   "cell_type": "markdown",
   "id": "e951eda8",
   "metadata": {},
   "source": [
    "**Code bước 1**"
   ]
  },
  {
   "cell_type": "code",
   "execution_count": 20,
   "id": "346bd077",
   "metadata": {},
   "outputs": [
    {
     "data": {
      "text/plain": [
       "Rất ít         150\n",
       "Ít             126\n",
       "Bình thường     80\n",
       "Nhiều           26\n",
       "Rất nhiều       13\n",
       "Name: alcohol, dtype: int64"
      ]
     },
     "execution_count": 20,
     "metadata": {},
     "output_type": "execute_result"
    }
   ],
   "source": [
    "bins=[0, 2, 4, 6, 8, 10]\n",
    "labels=['Rất ít', 'Ít', 'Bình thường','Nhiều', 'Rất nhiều']\n",
    "student_df['alcohol'] = pd.cut(student_df[\"alc\"], bins,labels=labels)\n",
    "student_df['alcohol'].value_counts().sort_index()"
   ]
  },
  {
   "cell_type": "markdown",
   "id": "bba0ea68",
   "metadata": {},
   "source": [
    "**Code bước 2**"
   ]
  },
  {
   "cell_type": "code",
   "execution_count": 21,
   "id": "dbcc002e",
   "metadata": {
    "scrolled": false
   },
   "outputs": [
    {
     "data": {
      "text/plain": [
       "Text(0.5, 1.0, 'Số lượng sinh viên uống rượu')"
      ]
     },
     "execution_count": 21,
     "metadata": {},
     "output_type": "execute_result"
    },
    {
     "data": {
      "image/png": "[encoded data removed]",
      "text/plain": [
       "<Figure size 864x432 with 2 Axes>"
      ]
     },
     "metadata": {
      "needs_background": "light"
     },
     "output_type": "display_data"
    }
   ],
   "source": [
    "# Pie plot & Bar plot\n",
    "sizes = student_df['alcohol'].value_counts()[labels]\n",
    "explode = (0.1, 0, 0, 0, 0)  # explode 1st slice\n",
    "fig, (ax1, ax2) = plt.subplots(1, 2, figsize=(12,6))\n",
    "# #plotting pie plot\n",
    "ax1.pie(sizes,\n",
    "        explode=explode, \n",
    "        labels=labels,\n",
    "        autopct='%1.1f%%', \n",
    "        shadow=True);\n",
    "ax1.axis('equal')\n",
    "ax1.set_title(\"Tỉ lệ học sinh uống rượu\")\n",
    "#plotting bar plot\n",
    "sns.countplot(x=\"alcohol\", data=student_df, ax=ax2).set_title(\"Số lượng sinh viên uống rượu\")"
   ]
  },
  {
   "cell_type": "markdown",
   "id": "a6655d98",
   "metadata": {},
   "source": [
    "- Tỉ lệ học sinh uống rượu ít và rất ít chiếm hơn một nửa"
   ]
  },
  {
   "cell_type": "markdown",
   "id": "284c022e",
   "metadata": {},
   "source": [
    "**Code bước 3**"
   ]
  },
  {
   "cell_type": "code",
   "execution_count": 22,
   "id": "c72fd1a0",
   "metadata": {},
   "outputs": [
    {
     "data": {
      "image/png": "[encoded data removed]",
      "text/plain": [
       "<Figure size 1224x432 with 3 Axes>"
      ]
     },
     "metadata": {
      "needs_background": "light"
     },
     "output_type": "display_data"
    }
   ],
   "source": [
    "def bivariatte_barplot(df, x=\"alcohol\", y=\"G_avg\", hue=None, ax=None, color_set=1):\n",
    "    pivtab_ser = df.groupby([x, hue])[y].mean().reset_index()\n",
    "    #plotting\n",
    "    sns.barplot(x=x, y=y, hue=hue,\n",
    "                data=pivtab_ser, ax=ax,\n",
    "                palette=\"Set%s\"%(color_set+1)).set_ylabel(\"Điểm trung bình\")\n",
    "hues = ['sex', 'school', 'romantic']\n",
    "#plotting\n",
    "fig, axes = plt.subplots(1, len(hues), figsize=(17,6), sharey=True)\n",
    "for idx, hue in enumerate(hues):\n",
    "    bivariatte_barplot(student_df, \n",
    "                         hue=hue, \n",
    "                         ax=axes[idx], \n",
    "                         color_set=idx)"
   ]
  },
  {
   "cell_type": "markdown",
   "id": "47bb2fdd",
   "metadata": {},
   "source": [
    "- Có vẻ như giới tính là nam thì uống rượu rất ít nhất thì kết quả học tập sẽ là cao nhất. Ngược lại một điều thú vị là nữ khi mức độ uống rượu bình thường lại cho kết quả thi cao nhất.\n",
    "- Đối với trường Gabriel Pereira thì các cột uống rượu khá đồng đều nhau nhưng việc uống rượu rất ít sẽ đem lại điểm trung bình cao nhất cho học sinh. Đối với học sinh trường Mousinho da Silveira uống rượu ít sẽ đem lại kết quả tốt.\n",
    "- Đối với những học sinh không có mối quan hệ hẹn hò thì việc uống rượu rất ít cho kết quả thi cao nhất và ổn định hơn các học sinh có mối quan hệ hẹn hò. Điều thú vị thì học sinh có mối quan hệ hẹn hò thì họ sẽ uống rất nhiều rượu và cho kết quả thi cao nhất.\n",
    "\n",
    "\n",
    "==> Uống rượu ít sẽ đem lại kết quả thi tốt nhất với những mặt khác nhau"
   ]
  },
  {
   "cell_type": "markdown",
   "id": "3f3d38e1",
   "metadata": {},
   "source": [
    "**Ta coi những học sinh khỏe mạnh có chỉ số health lớn hơn hoặc bằng 3**"
   ]
  },
  {
   "cell_type": "code",
   "execution_count": 23,
   "id": "a653d457",
   "metadata": {},
   "outputs": [],
   "source": [
    "student_df[\"is_healthy\"] = student_df[\"health\"]>=3"
   ]
  },
  {
   "cell_type": "code",
   "execution_count": 24,
   "id": "e4d7dbe6",
   "metadata": {},
   "outputs": [
    {
     "data": {
      "image/png": "[encoded data removed]",
      "text/plain": [
       "<Figure size 1052.62x504 with 2 Axes>"
      ]
     },
     "metadata": {
      "needs_background": "light"
     },
     "output_type": "display_data"
    }
   ],
   "source": [
    "def multivariatte_factplot(x=\"alcohol\", y=\"G_avg\", hue=\"sex\", col=\"is_healthy\", df=pd.DataFrame(), cs=1):\n",
    "    piv_tab = df.groupby([x, hue, col])[y].mean().reset_index()\n",
    "    sns.factorplot(x=x, y=y, hue=hue, col=col, data=piv_tab, kind='bar', palette=\"Set%s\"%cs, size=7);\n",
    "multivariatte_factplot(df=student_df);"
   ]
  },
  {
   "cell_type": "markdown",
   "id": "f63f1dd0",
   "metadata": {},
   "source": [
    "- Nhận thấy điều thú vị là nam  nếu sức khỏe không khỏe mạnh với việc uống nhiều rượu của mình thì lại có thành tích học tập tốt nhưng việc uống rượu rất ít sẽ cho kết quả thi cao nhất. Còn đối với nữ thì kết quả thi trung bình của nữ khi uống rượu rất ít, bình thường , nhiều lại khá đồng đều nhau, uống rượu ít sẽ cho kết quả thi tốt nhất\n",
    "- Điều lạ lùng, khó hiểu thì nam giới khỏe mạnh uống rượu bình thường lại kém hơn rất nhiều với những người nam giới không khỏe mạnh.\n",
    "- Nữ không khỏe mạnh uống rượu ít lại hoạt động tốt nhất trong các nhóm nữ, có lẽ nếu đúng liều lượng sẽ giúp tâm trạng vui vẻ nâng cao hiệu suất học tập.\n",
    "- Một điều có thể chắc chắn rằng nếu sức khỏe không tốt thêm việc uống nhiều rượu nhất thì chắn chắc điểm sẽ thấp nhất mà thôi\n",
    "\n",
    "==> Ta lại thấy được uống rượu rất ít với tình trạng sức khỏe như thế nào đi nữa cũng sẽ cho kết quả thi tốt nhất"
   ]
  },
  {
   "cell_type": "code",
   "execution_count": 25,
   "id": "daa7b4d2",
   "metadata": {},
   "outputs": [
    {
     "data": {
      "image/png": "[encoded data removed]",
      "text/plain": [
       "<Figure size 1058.88x504 with 2 Axes>"
      ]
     },
     "metadata": {
      "needs_background": "light"
     },
     "output_type": "display_data"
    }
   ],
   "source": [
    "multivariatte_factplot(hue=\"school\", col=\"address\", df=student_df, cs=2)"
   ]
  },
  {
   "cell_type": "markdown",
   "id": "178ba96a",
   "metadata": {},
   "source": [
    "- Đầu tiên ta có thể thấy được đa số học sinh trường MS có điểm thi trung bình tốt hơn học sinh trường GP theo từng nhóm uống rượu.\n",
    "- Ở vùng nông thôn thì những học sinh không thường uống rượu đặc biệt học sinh trường MS, uống rượu rất ít thì đạt điểm số cao hơn rất nhiều so với các nhóm khác.Thật ngạc nhiên ở nông thôn học sinh MS uống rất nhiều rượu lại có kết quả thi tốt hơn các nhóm còn lại. Cho thấy các học sinh đó quản lý tốt thời gian học và vui chơi của mình.\n",
    "- Ở khu vực thành thị thì điểm trung bình phân bố đồng đều hơn. Điều thú vị thì những học sinh MS uống nhiều rượu cho kết quả cao nhất. Cũng có thể việc uống rượu sẽ giúp học sinh thành thị giải tỏa áp lực học tập giúp nâng cao hiệu suất học tập của mình\n",
    "\n",
    "\n",
    "==> Qua đó có thể thấy được việc hạn chế uống rượu sẽ  giúp học sinh học tập tốt hơn, ổn định hơn về nhiều khía cạnh khác nhau"
   ]
  },
  {
   "cell_type": "markdown",
   "id": "2b8f9834",
   "metadata": {},
   "source": [
    "# D. Nhìn lại quá trình làm đồ án"
   ]
  },
  {
   "cell_type": "markdown",
   "id": "93671c2b",
   "metadata": {},
   "source": [
    "## Đã gặp những khó khăn gì? "
   ]
  },
  {
   "cell_type": "markdown",
   "id": "6148176f",
   "metadata": {},
   "source": [
    "**Ngô Hữu Đang**\n",
    "- Khó khăn trong việc sử dụng git, github khi làm việc nhóm\n",
    "- 2 người thuộc 2 khóa khác nhau nên công việc chủ yếu trao đổi qua tin nhắn\n",
    "\n",
    "**Nguyễn Văn Minh**\n",
    "- Khó khăn trong việc đặt câu hỏi và trả lời để làm sao để người đọc dễ nhìn thấy vấn đề và dễ hiểu.\n",
    "- Thời gian gấp rút do nhiều môn xảy ra đồ án cùng thời điểm\n",
    "- Thời gian tiếp cận, sử dụng python, numpy, pandas khá ít"
   ]
  },
  {
   "cell_type": "markdown",
   "id": "7432db7d",
   "metadata": {},
   "source": [
    "## Có học được gì hữu ích? (Hay không học được gì)"
   ]
  },
  {
   "cell_type": "markdown",
   "id": "77ccf0fc",
   "metadata": {},
   "source": [
    "**Ngô Hữu Đang**\n",
    "- Học được cách sử dụng git, github khi làm việc nhóm\n",
    "- Học được cách trình bày các đồ thị sao cho dễ so sánh\n",
    "\n",
    "**Nguyễn Văn Minh**\n",
    "- Đã có kinh nghiệm trong việc phân tích dữ liệu như dùng pandas, matplotlib,...\n",
    "- Nắm vững hơn về quy trình khoa học dữ liệu\n",
    "- Biết cách xử lý, phân tích dữ liệu để trả lời câu hỏi"
   ]
  },
  {
   "cell_type": "markdown",
   "id": "27861b2c",
   "metadata": {},
   "source": [
    "## Nếu có thêm thời gian thì sẽ làm gì?"
   ]
  },
  {
   "cell_type": "markdown",
   "id": "2a459180",
   "metadata": {},
   "source": [
    "- Sẽ tìm hiểu thêm các thư viện khác trong việc trực quan và phân tích.\n",
    "- Đặt thêm câu hỏi cho các vấn đề\n",
    "- Áp dụng học máy để dự đoán điểm thi môn toán "
   ]
  },
  {
   "cell_type": "markdown",
   "id": "0b5abdec",
   "metadata": {},
   "source": [
    "# Tài liệu tham khảo"
   ]
  },
  {
   "cell_type": "markdown",
   "id": "d4cc7616",
   "metadata": {},
   "source": [
    "- Dữ liệu trên Kaggle: https://www.kaggle.com/lhwvong/students-alcohol-consumption-analysis\n",
    "- HW2,HW3"
   ]
  }
 ],
 "metadata": {
  "kernelspec": {
   "display_name": "Python 3 (ipykernel)",
   "language": "python",
   "name": "python3"
  },
  "language_info": {
   "codemirror_mode": {
    "name": "ipython",
    "version": 3
   },
   "file_extension": ".py",
   "mimetype": "text/x-python",
   "name": "python",
   "nbconvert_exporter": "python",
   "pygments_lexer": "ipython3",
   "version": "3.8.8"
  }
 },
 "nbformat": 4,
 "nbformat_minor": 5
}
